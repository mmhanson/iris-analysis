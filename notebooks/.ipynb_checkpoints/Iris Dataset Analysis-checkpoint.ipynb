{
 "cells": [
  {
   "cell_type": "code",
   "execution_count": 1,
   "metadata": {},
   "outputs": [
    {
     "name": "stderr",
     "output_type": "stream",
     "text": [
      "/home/maxwell/workspace/iris_dataset/lib/python3.6/importlib/_bootstrap.py:219: RuntimeWarning: numpy.dtype size changed, may indicate binary incompatibility. Expected 96, got 88\n",
      "  return f(*args, **kwds)\n",
      "/home/maxwell/workspace/iris_dataset/lib/python3.6/importlib/_bootstrap.py:219: RuntimeWarning: numpy.dtype size changed, may indicate binary incompatibility. Expected 96, got 88\n",
      "  return f(*args, **kwds)\n"
     ]
    }
   ],
   "source": [
    "from sklearn.datasets import load_iris\n",
    "import pandas\n",
    "from matplotlib import pyplot as plt"
   ]
  },
  {
   "cell_type": "code",
   "execution_count": 2,
   "metadata": {},
   "outputs": [],
   "source": [
    "# load the iris dataset into a Bunch object\n",
    "iris = load_iris()"
   ]
  },
  {
   "cell_type": "code",
   "execution_count": 3,
   "metadata": {},
   "outputs": [
    {
     "name": "stdout",
     "output_type": "stream",
     "text": [
      "[[5.1 3.5 1.4 0.2]\n",
      " [4.9 3.  1.4 0.2]\n",
      " [4.7 3.2 1.3 0.2]\n",
      " [4.6 3.1 1.5 0.2]\n",
      " [5.  3.6 1.4 0.2]]\n"
     ]
    }
   ],
   "source": [
    "# examine the head\n",
    "print(iris.data[:5])"
   ]
  },
  {
   "cell_type": "code",
   "execution_count": 4,
   "metadata": {},
   "outputs": [
    {
     "name": "stdout",
     "output_type": "stream",
     "text": [
      "(150, 4)\n"
     ]
    }
   ],
   "source": [
    "# examine the shape\n",
    "# the first metric is the number of rows (observations), the second the number of columns (features)\n",
    "print(iris.data.shape)"
   ]
  },
  {
   "cell_type": "code",
   "execution_count": 5,
   "metadata": {},
   "outputs": [
    {
     "name": "stdout",
     "output_type": "stream",
     "text": [
      "['sepal length (cm)', 'sepal width (cm)', 'petal length (cm)', 'petal width (cm)']\n"
     ]
    }
   ],
   "source": [
    "# examine the feature names\n",
    "print(iris.feature_names)"
   ]
  },
  {
   "cell_type": "code",
   "execution_count": 6,
   "metadata": {},
   "outputs": [
    {
     "name": "stdout",
     "output_type": "stream",
     "text": [
      "[0 0 0 0 0 0 0 0 0 0 0 0 0 0 0 0 0 0 0 0 0 0 0 0 0 0 0 0 0 0 0 0 0 0 0 0 0\n",
      " 0 0 0 0 0 0 0 0 0 0 0 0 0 1 1 1 1 1 1 1 1 1 1 1 1 1 1 1 1 1 1 1 1 1 1 1 1\n",
      " 1 1 1 1 1 1 1 1 1 1 1 1 1 1 1 1 1 1 1 1 1 1 1 1 1 1 2 2 2 2 2 2 2 2 2 2 2\n",
      " 2 2 2 2 2 2 2 2 2 2 2 2 2 2 2 2 2 2 2 2 2 2 2 2 2 2 2 2 2 2 2 2 2 2 2 2 2\n",
      " 2 2]\n",
      "['setosa' 'versicolor' 'virginica']\n"
     ]
    }
   ],
   "source": [
    "# examine the target names and codes\n",
    "print(iris.target)\n",
    "print(iris.target_names)"
   ]
  },
  {
   "cell_type": "markdown",
   "metadata": {},
   "source": [
    "#### Terminology\n",
    "1. Each row is called an __observation__ (also called a sample, instance, or record).\n",
    "2. Each column is called a __feature__ (also called an attribute, variable, or input).\n",
    "3. The values to be predicted are called __targets__.\n",
    "\n",
    "#### Dataset Description\n",
    "In this dataset we have 150 __observations__ of four __features__ and three __targets__. More specifically, there are measurements of sepal and petal length and width for 150 different iris flowers of three species.\n",
    "\n",
    "The goal of this analysis will be to assign each observation a target by analyzing its features."
   ]
  },
  {
   "cell_type": "code",
   "execution_count": 9,
   "metadata": {},
   "outputs": [
    {
     "data": {
      "image/png": "[encoded data removed]",
      "text/plain": [
       "<Figure size 432x288 with 4 Axes>"
      ]
     },
     "metadata": {},
     "output_type": "display_data"
    }
   ],
   "source": [
    "# examine the distribution of the features for all targets with boxplots\n",
    "fig, axs = plt.subplots(1, 4, sharey=True, squeeze=False)\n",
    "\n",
    "axs[0].boxplot(iris.data[:, [0]])\n",
    "axs[1].boxplot(iris.data[:, [1]])\n",
    "axs[2].boxplot(iris.data[:, [2]])\n",
    "axs[3].boxplot(iris.data[:, [3]])\n",
    "\n",
    "axs[0].set_title(\"Sepal Length (cm)\")\n",
    "axs[1].set_title(\"Sepal Width (cm)\")\n",
    "axs[2].set_title(\"Petal Length (cm)\")\n",
    "axs[3].set_title(\"Petal Width (cm)\")\n",
    "\n",
    "plt.show()"
   ]
  },
  {
   "cell_type": "code",
   "execution_count": null,
   "metadata": {},
   "outputs": [],
   "source": [
    "# examine the distribution of the features for all targets with boxplots\n",
    "fig, axs = plt.subplots()\n",
    "\n",
    "data = \n",
    "axs[0].boxplot(iris.data)\n",
    "\n",
    "#axs[0].set_title(\"Sepal Length (cm)\")\n",
    "#axs[1].set_title(\"Sepal Width (cm)\")\n",
    "#axs[2].set_title(\"Petal Length (cm)\")\n",
    "#axs[3].set_title(\"Petal Width (cm)\")\n",
    "\n",
    "plt.show()"
   ]
  },
  {
   "cell_type": "code",
   "execution_count": 15,
   "metadata": {},
   "outputs": [
    {
     "name": "stdout",
     "output_type": "stream",
     "text": [
      "<class 'list'>\n",
      "[array([[ 70.03673039],\n",
      "       [ 74.27508094],\n",
      "       [ 70.92800107],\n",
      "       [ 56.67455225],\n",
      "       [ 97.77853328],\n",
      "       [ 70.6334846 ],\n",
      "       [ 24.79157587],\n",
      "       [ 15.78833509],\n",
      "       [ 69.76985214],\n",
      "       [ 71.99566667],\n",
      "       [ 25.77444303],\n",
      "       [ 34.15467831],\n",
      "       [ 96.87611677],\n",
      "       [ 69.45070978],\n",
      "       [ 46.63832593],\n",
      "       [ 70.28126954],\n",
      "       [ 51.1785874 ],\n",
      "       [ 92.874137  ],\n",
      "       [ 73.97692989],\n",
      "       [ 62.24390337],\n",
      "       [ 65.15454689],\n",
      "       [ 39.68076115],\n",
      "       [ 54.32393949],\n",
      "       [ 79.98995282],\n",
      "       [ 72.15447266],\n",
      "       [ 29.53639811],\n",
      "       [ 16.09458806],\n",
      "       [ 20.61255148],\n",
      "       [ 13.43253868],\n",
      "       [ 48.06050174],\n",
      "       [ 34.25218134],\n",
      "       [ 36.29692901],\n",
      "       [ 97.29176387],\n",
      "       [ 11.09436116],\n",
      "       [ 38.82640891],\n",
      "       [ 78.30658753],\n",
      "       [ 97.28972601],\n",
      "       [ 48.32096053],\n",
      "       [ 33.64211054],\n",
      "       [ 56.74190362],\n",
      "       [  4.79415097],\n",
      "       [ 38.8937029 ],\n",
      "       [ 90.63036451],\n",
      "       [ 16.10182093],\n",
      "       [ 74.36211347],\n",
      "       [ 63.29741618],\n",
      "       [ 32.41800177],\n",
      "       [ 92.23765324],\n",
      "       [ 23.72264387],\n",
      "       [ 82.39455709],\n",
      "       [ 50.        ],\n",
      "       [ 50.        ],\n",
      "       [ 50.        ],\n",
      "       [ 50.        ],\n",
      "       [ 50.        ],\n",
      "       [ 50.        ],\n",
      "       [ 50.        ],\n",
      "       [ 50.        ],\n",
      "       [ 50.        ],\n",
      "       [ 50.        ],\n",
      "       [ 50.        ],\n",
      "       [ 50.        ],\n",
      "       [ 50.        ],\n",
      "       [ 50.        ],\n",
      "       [ 50.        ],\n",
      "       [ 50.        ],\n",
      "       [ 50.        ],\n",
      "       [ 50.        ],\n",
      "       [ 50.        ],\n",
      "       [ 50.        ],\n",
      "       [ 50.        ],\n",
      "       [ 50.        ],\n",
      "       [ 50.        ],\n",
      "       [ 50.        ],\n",
      "       [ 50.        ],\n",
      "       [175.06071403],\n",
      "       [111.37844527],\n",
      "       [184.53612452],\n",
      "       [192.3932129 ],\n",
      "       [122.08367918],\n",
      "       [193.3053876 ],\n",
      "       [148.89987436],\n",
      "       [147.47186402],\n",
      "       [108.91674722],\n",
      "       [122.9948178 ],\n",
      "       [-71.59374101],\n",
      "       [-49.6126162 ],\n",
      "       [-76.64893785],\n",
      "       [-89.67973224],\n",
      "       [-77.22230183],\n",
      "       [-92.71742883],\n",
      "       [-61.46520272],\n",
      "       [-60.90637692],\n",
      "       [-68.46848657],\n",
      "       [-25.10129674]]), array([[ 83.78376368],\n",
      "       [ 11.8615617 ],\n",
      "       [ 79.72347418],\n",
      "       [ 94.90042675],\n",
      "       [ 14.80628764],\n",
      "       [ 90.68719849],\n",
      "       [ 78.83733255],\n",
      "       [ 76.84058413],\n",
      "       [ 59.8496483 ],\n",
      "       [ 44.21456175],\n",
      "       [ 72.30380198],\n",
      "       [ 41.66182494],\n",
      "       [ 22.68103954],\n",
      "       [ 45.42273409],\n",
      "       [ 84.79437532],\n",
      "       [ 93.6655949 ],\n",
      "       [ 95.60361846],\n",
      "       [ 39.20943157],\n",
      "       [ 70.8324671 ],\n",
      "       [ 12.95158346],\n",
      "       [ 35.37963854],\n",
      "       [ 40.42715193],\n",
      "       [ 64.85338993],\n",
      "       [  3.30709704],\n",
      "       [ 53.80093632],\n",
      "       [ 13.17131185],\n",
      "       [ 52.09349339],\n",
      "       [ 10.24847852],\n",
      "       [ 15.79803754],\n",
      "       [ 92.0029646 ],\n",
      "       [ 78.42297751],\n",
      "       [ 39.70475376],\n",
      "       [ 15.46468315],\n",
      "       [ 72.11932479],\n",
      "       [ 83.68309041],\n",
      "       [ 93.78552019],\n",
      "       [ 57.67138189],\n",
      "       [ 19.50265601],\n",
      "       [ 11.77939697],\n",
      "       [ 95.06002043],\n",
      "       [ 28.36723023],\n",
      "       [ 95.65624228],\n",
      "       [ 90.94254614],\n",
      "       [ 32.84251875],\n",
      "       [ 95.17655686],\n",
      "       [ 11.63214758],\n",
      "       [ 87.43141503],\n",
      "       [ 98.52254676],\n",
      "       [ 75.03353804],\n",
      "       [ 98.51564662],\n",
      "       [ 40.        ],\n",
      "       [ 40.        ],\n",
      "       [ 40.        ],\n",
      "       [ 40.        ],\n",
      "       [ 40.        ],\n",
      "       [ 40.        ],\n",
      "       [ 40.        ],\n",
      "       [ 40.        ],\n",
      "       [ 40.        ],\n",
      "       [ 40.        ],\n",
      "       [ 40.        ],\n",
      "       [ 40.        ],\n",
      "       [ 40.        ],\n",
      "       [ 40.        ],\n",
      "       [ 40.        ],\n",
      "       [ 40.        ],\n",
      "       [ 40.        ],\n",
      "       [ 40.        ],\n",
      "       [ 40.        ],\n",
      "       [ 40.        ],\n",
      "       [ 40.        ],\n",
      "       [ 40.        ],\n",
      "       [ 40.        ],\n",
      "       [ 40.        ],\n",
      "       [ 40.        ],\n",
      "       [199.0180235 ],\n",
      "       [106.09770913],\n",
      "       [100.37359805],\n",
      "       [181.25032132],\n",
      "       [158.27367203],\n",
      "       [115.02459814],\n",
      "       [115.21735565],\n",
      "       [152.7059502 ],\n",
      "       [147.94051987],\n",
      "       [109.21899366],\n",
      "       [-51.19574322],\n",
      "       [ -4.28311062],\n",
      "       [-80.62961538],\n",
      "       [-24.21986649],\n",
      "       [-84.8211097 ],\n",
      "       [-69.55898582],\n",
      "       [-36.13268647],\n",
      "       [-50.57014395],\n",
      "       [-29.41724224],\n",
      "       [-66.00845699]]), array([ 83.78376368,  79.72347418,  14.80628764,  78.83733255,\n",
      "        59.8496483 ,  72.30380198,  22.68103954,  84.79437532,\n",
      "        95.60361846,  70.8324671 ,  35.37963854,  64.85338993,\n",
      "        53.80093632,  52.09349339,  15.79803754,  78.42297751,\n",
      "        15.46468315,  83.68309041,  57.67138189,  11.77939697,\n",
      "        28.36723023,  90.94254614,  95.17655686,  87.43141503,\n",
      "        75.03353804,  40.        ,  40.        ,  40.        ,\n",
      "        40.        ,  40.        ,  40.        ,  40.        ,\n",
      "        40.        ,  40.        ,  40.        ,  40.        ,\n",
      "        40.        ,  40.        , 106.09770913, 181.25032132,\n",
      "       115.02459814, 152.7059502 , 109.21899366,  -4.28311062,\n",
      "       -24.21986649, -69.55898582, -50.57014395, -66.00845699])]\n"
     ]
    },
    {
     "data": {
      "image/png": "[encoded data removed]",
      "text/plain": [
       "<Figure size 432x288 with 6 Axes>"
      ]
     },
     "metadata": {},
     "output_type": "display_data"
    },
    {
     "data": {
      "image/png": "[encoded data removed]",
      "text/plain": [
       "<Figure size 432x288 with 1 Axes>"
      ]
     },
     "metadata": {},
     "output_type": "display_data"
    }
   ],
   "source": [
    "import matplotlib.pyplot as plt\n",
    "import numpy as np\n",
    "from matplotlib.patches import Polygon\n",
    "\n",
    "\n",
    "# Fixing random state for reproducibility\n",
    "np.random.seed(19680801)\n",
    "\n",
    "# fake up some data\n",
    "spread = np.random.rand(50) * 100\n",
    "center = np.ones(25) * 50\n",
    "flier_high = np.random.rand(10) * 100 + 100\n",
    "flier_low = np.random.rand(10) * -100\n",
    "data = np.concatenate((spread, center, flier_high, flier_low), 0)\n",
    "\n",
    "fig, axs = plt.subplots(2, 3)\n",
    "\n",
    "# basic plot\n",
    "\n",
    "\n",
    "fig.subplots_adjust(left=0.08, right=0.98, bottom=0.05, top=0.9,\n",
    "                    hspace=0.4, wspace=0.3)\n",
    "\n",
    "# fake up some more data\n",
    "spread = np.random.rand(50) * 100\n",
    "center = np.ones(25) * 40\n",
    "flier_high = np.random.rand(10) * 100 + 100\n",
    "flier_low = np.random.rand(10) * -100\n",
    "d2 = np.concatenate((spread, center, flier_high, flier_low), 0)\n",
    "data.shape = (-1, 1)\n",
    "d2.shape = (-1, 1)\n",
    "# Making a 2-D array only works if all the columns are the\n",
    "# same length.  If they are not, then use a list instead.\n",
    "# This is actually more efficient because boxplot converts\n",
    "# a 2-D array into a list of vectors internally anyway.\n",
    "data = [data, d2, d2[::2, 0]]\n",
    "\n",
    "print(type(data))\n",
    "print(data)\n",
    "\n",
    "# Multiple box plots on one Axes\n",
    "fig, ax = plt.subplots()\n",
    "ax.boxplot(data)\n",
    "\n",
    "plt.show()"
   ]
  },
  {
   "cell_type": "code",
   "execution_count": null,
   "metadata": {},
   "outputs": [],
   "source": []
  }
 ],
 "metadata": {
  "kernelspec": {
   "display_name": "Python 3",
   "language": "python",
   "name": "python3"
  },
  "language_info": {
   "codemirror_mode": {
    "name": "ipython",
    "version": 3
   },
   "file_extension": ".py",
   "mimetype": "text/x-python",
   "name": "python",
   "nbconvert_exporter": "python",
   "pygments_lexer": "ipython3",
   "version": "3.6.5"
  }
 },
 "nbformat": 4,
 "nbformat_minor": 2
}
